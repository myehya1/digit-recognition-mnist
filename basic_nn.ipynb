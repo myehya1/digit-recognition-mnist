{
 "cells": [
  {
   "cell_type": "code",
   "execution_count": 1,
   "metadata": {},
   "outputs": [],
   "source": [
    "import torch\n",
    "import torch.nn as nn\n",
    "import torch.optim as optim\n",
    "from torchvision import datasets, transforms\n",
    "from torch.utils.data import DataLoader\n",
    "import matplotlib.pyplot as plt"
   ]
  },
  {
   "cell_type": "code",
   "execution_count": 2,
   "metadata": {},
   "outputs": [],
   "source": [
    "# Hyperparameters\n",
    "input_size = 28 * 28  # MNIST images are 28x28\n",
    "hidden_size = 128\n",
    "num_classes = 10\n",
    "num_epochs = 5\n",
    "batch_size = 64\n",
    "learning_rate = 0.001"
   ]
  },
  {
   "cell_type": "code",
   "execution_count": 3,
   "metadata": {},
   "outputs": [],
   "source": [
    "# Load MNIST dataset\n",
    "transform = transforms.Compose([transforms.ToTensor(), transforms.Normalize((0.5,), (0.5,))])\n",
    "train_dataset = datasets.MNIST(root='./data', train=True, transform=transform, download=True)\n",
    "test_dataset = datasets.MNIST(root='./data', train=False, transform=transform, download=True)\n",
    "train_loader = DataLoader(dataset=train_dataset, batch_size=batch_size, shuffle=True)\n",
    "test_loader = DataLoader(dataset=test_dataset, batch_size=batch_size, shuffle=False)\n"
   ]
  },
  {
   "cell_type": "code",
   "execution_count": 4,
   "metadata": {},
   "outputs": [
    {
     "data": {
      "image/png": "[encoded data removed]",
      "text/plain": [
       "<Figure size 1000x200 with 5 Axes>"
      ]
     },
     "metadata": {},
     "output_type": "display_data"
    }
   ],
   "source": [
    "# Display some images from the training set\n",
    "def show_images(dataset, num_images=5):\n",
    "    fig, axes = plt.subplots(1, num_images, figsize=(10, 2))\n",
    "    for i in range(num_images):\n",
    "        img, label = dataset[i]\n",
    "        img = img.squeeze().numpy()  # Remove batch dimension and convert to numpy\n",
    "        axes[i].imshow(img, cmap='gray')\n",
    "        axes[i].set_title(f\"Label: {label}\")\n",
    "        axes[i].axis('off')\n",
    "    plt.show()\n",
    "\n",
    "show_images(train_dataset)\n"
   ]
  },
  {
   "cell_type": "code",
   "execution_count": 5,
   "metadata": {},
   "outputs": [],
   "source": [
    "# Define the neural network\n",
    "class NeuralNet(nn.Module):\n",
    "    def __init__(self, input_size, hidden_size, num_classes):\n",
    "        super(NeuralNet, self).__init__()\n",
    "        self.fc1 = nn.Linear(input_size, hidden_size)\n",
    "        self.relu = nn.ReLU()\n",
    "        self.fc2 = nn.Linear(hidden_size, num_classes)\n",
    "\n",
    "    def forward(self, x):\n",
    "        out = self.fc1(x)\n",
    "        out = self.relu(out)\n",
    "        out = self.fc2(out)\n",
    "        return out\n",
    "\n",
    "model = NeuralNet(input_size, hidden_size, num_classes)\n"
   ]
  },
  {
   "cell_type": "code",
   "execution_count": 6,
   "metadata": {},
   "outputs": [
    {
     "name": "stdout",
     "output_type": "stream",
     "text": [
      "Epoch [1/5], Step [100/938], Loss: 0.5210\n",
      "Epoch [1/5], Step [200/938], Loss: 0.3153\n",
      "Epoch [1/5], Step [300/938], Loss: 0.4728\n",
      "Epoch [1/5], Step [400/938], Loss: 0.3402\n",
      "Epoch [1/5], Step [500/938], Loss: 0.1782\n",
      "Epoch [1/5], Step [600/938], Loss: 0.2366\n",
      "Epoch [1/5], Step [700/938], Loss: 0.2423\n",
      "Epoch [1/5], Step [800/938], Loss: 0.2501\n",
      "Epoch [1/5], Step [900/938], Loss: 0.3009\n",
      "Epoch [2/5], Step [100/938], Loss: 0.2046\n",
      "Epoch [2/5], Step [200/938], Loss: 0.1566\n",
      "Epoch [2/5], Step [300/938], Loss: 0.2545\n",
      "Epoch [2/5], Step [400/938], Loss: 0.1141\n",
      "Epoch [2/5], Step [500/938], Loss: 0.0604\n",
      "Epoch [2/5], Step [600/938], Loss: 0.1658\n",
      "Epoch [2/5], Step [700/938], Loss: 0.2766\n",
      "Epoch [2/5], Step [800/938], Loss: 0.1519\n",
      "Epoch [2/5], Step [900/938], Loss: 0.1968\n",
      "Epoch [3/5], Step [100/938], Loss: 0.1792\n",
      "Epoch [3/5], Step [200/938], Loss: 0.3329\n",
      "Epoch [3/5], Step [300/938], Loss: 0.0838\n",
      "Epoch [3/5], Step [400/938], Loss: 0.1609\n",
      "Epoch [3/5], Step [500/938], Loss: 0.1103\n",
      "Epoch [3/5], Step [600/938], Loss: 0.3164\n",
      "Epoch [3/5], Step [700/938], Loss: 0.1455\n",
      "Epoch [3/5], Step [800/938], Loss: 0.1844\n",
      "Epoch [3/5], Step [900/938], Loss: 0.2506\n",
      "Epoch [4/5], Step [100/938], Loss: 0.1386\n",
      "Epoch [4/5], Step [200/938], Loss: 0.1229\n",
      "Epoch [4/5], Step [300/938], Loss: 0.1082\n",
      "Epoch [4/5], Step [400/938], Loss: 0.1027\n",
      "Epoch [4/5], Step [500/938], Loss: 0.2317\n",
      "Epoch [4/5], Step [600/938], Loss: 0.0457\n",
      "Epoch [4/5], Step [700/938], Loss: 0.0976\n",
      "Epoch [4/5], Step [800/938], Loss: 0.1073\n",
      "Epoch [4/5], Step [900/938], Loss: 0.1296\n",
      "Epoch [5/5], Step [100/938], Loss: 0.1893\n",
      "Epoch [5/5], Step [200/938], Loss: 0.0299\n",
      "Epoch [5/5], Step [300/938], Loss: 0.0819\n",
      "Epoch [5/5], Step [400/938], Loss: 0.0502\n",
      "Epoch [5/5], Step [500/938], Loss: 0.0363\n",
      "Epoch [5/5], Step [600/938], Loss: 0.2007\n",
      "Epoch [5/5], Step [700/938], Loss: 0.0462\n",
      "Epoch [5/5], Step [800/938], Loss: 0.0687\n",
      "Epoch [5/5], Step [900/938], Loss: 0.0498\n"
     ]
    }
   ],
   "source": [
    "# Loss and optimizer\n",
    "criterion = nn.CrossEntropyLoss()\n",
    "optimizer = optim.Adam(model.parameters(), lr=learning_rate)\n",
    "\n",
    "# Training loop\n",
    "for epoch in range(num_epochs):\n",
    "    for i, (images, labels) in enumerate(train_loader):\n",
    "        images = images.reshape(-1, 28 * 28)\n",
    "\n",
    "        # Forward pass\n",
    "        outputs = model(images)\n",
    "        loss = criterion(outputs, labels)\n",
    "\n",
    "        # Backward pass and optimize\n",
    "        optimizer.zero_grad()\n",
    "        loss.backward()\n",
    "        optimizer.step()\n",
    "\n",
    "        if (i + 1) % 100 == 0:\n",
    "            print(f'Epoch [{epoch + 1}/{num_epochs}], Step [{i + 1}/{len(train_loader)}], Loss: {loss.item():.4f}')\n"
   ]
  },
  {
   "cell_type": "code",
   "execution_count": 7,
   "metadata": {},
   "outputs": [
    {
     "name": "stdout",
     "output_type": "stream",
     "text": [
      "Accuracy of the model on the 10000 test images: 96.87%\n"
     ]
    }
   ],
   "source": [
    "# Test the model\n",
    "model.eval()\n",
    "with torch.no_grad():\n",
    "    correct = 0\n",
    "    total = 0\n",
    "    for images, labels in test_loader:\n",
    "        images = images.reshape(-1, 28 * 28)\n",
    "        outputs = model(images)\n",
    "        _, predicted = torch.max(outputs.data, 1)\n",
    "        total += labels.size(0)\n",
    "        correct += (predicted == labels).sum().item()\n",
    "\n",
    "    print(f'Accuracy of the model on the 10000 test images: {100 * correct / total:.2f}%')\n",
    "# %%"
   ]
  }
 ],
 "metadata": {
  "kernelspec": {
   "display_name": "venv",
   "language": "python",
   "name": "python3"
  },
  "language_info": {
   "codemirror_mode": {
    "name": "ipython",
    "version": 3
   },
   "file_extension": ".py",
   "mimetype": "text/x-python",
   "name": "python",
   "nbconvert_exporter": "python",
   "pygments_lexer": "ipython3",
   "version": "3.9.5"
  }
 },
 "nbformat": 4,
 "nbformat_minor": 2
}
