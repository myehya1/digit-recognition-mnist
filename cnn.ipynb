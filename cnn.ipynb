{
 "cells": [
  {
   "cell_type": "code",
   "execution_count": 3,
   "metadata": {},
   "outputs": [],
   "source": [
    "import torch\n",
    "import torch.nn as nn\n",
    "import torch.optim as optim\n",
    "from torchvision import datasets, transforms\n",
    "from torch.utils.data import DataLoader"
   ]
  },
  {
   "cell_type": "code",
   "execution_count": 4,
   "metadata": {},
   "outputs": [],
   "source": [
    "# Hyperparameters\n",
    "num_epochs = 5\n",
    "batch_size = 64\n",
    "learning_rate = 0.001"
   ]
  },
  {
   "cell_type": "code",
   "execution_count": 5,
   "metadata": {},
   "outputs": [],
   "source": [
    "# Load MNIST dataset\n",
    "transform = transforms.Compose([transforms.ToTensor(), transforms.Normalize((0.5,), (0.5,))])\n",
    "train_dataset = datasets.MNIST(root='./data', train=True, transform=transform, download=True)\n",
    "test_dataset = datasets.MNIST(root='./data', train=False, transform=transform, download=True)\n",
    "train_loader = DataLoader(dataset=train_dataset, batch_size=batch_size, shuffle=True)\n",
    "test_loader = DataLoader(dataset=test_dataset, batch_size=batch_size, shuffle=False)\n"
   ]
  },
  {
   "cell_type": "code",
   "execution_count": 6,
   "metadata": {},
   "outputs": [],
   "source": [
    "# Define the CNN\n",
    "class CNN(nn.Module):\n",
    "    def __init__(self):\n",
    "        super(CNN, self).__init__()\n",
    "        self.conv1 = nn.Conv2d(1, 16, kernel_size=5, stride=1, padding=2)\n",
    "        self.bn1 = nn.BatchNorm2d(16)\n",
    "        self.relu = nn.ReLU()\n",
    "        self.pool = nn.MaxPool2d(kernel_size=2, stride=2, padding=0)\n",
    "        self.conv2 = nn.Conv2d(16, 32, kernel_size=5, stride=1, padding=2)\n",
    "        self.bn2 = nn.BatchNorm2d(32)\n",
    "        self.gap = nn.AdaptiveAvgPool2d((1, 1))\n",
    "        self.fc = nn.Linear(32, 10)\n",
    "\n",
    "    def forward(self, x):\n",
    "        out = self.conv1(x)\n",
    "        out = self.bn1(out)\n",
    "        out = self.relu(out)\n",
    "        out = self.pool(out)\n",
    "        out = self.conv2(out)\n",
    "        out = self.bn2(out)\n",
    "        out = self.relu(out)\n",
    "        out = self.pool(out)\n",
    "        out = self.gap(out)\n",
    "        out = out.view(out.size(0), -1)\n",
    "        out = self.fc(out)\n",
    "        return out\n",
    "\n",
    "model = CNN()\n"
   ]
  },
  {
   "cell_type": "code",
   "execution_count": 7,
   "metadata": {},
   "outputs": [],
   "source": [
    "# Loss and optimizer\n",
    "criterion = nn.CrossEntropyLoss()\n",
    "optimizer = optim.Adam(model.parameters(), lr=learning_rate)\n"
   ]
  },
  {
   "cell_type": "code",
   "execution_count": 8,
   "metadata": {},
   "outputs": [
    {
     "name": "stdout",
     "output_type": "stream",
     "text": [
      "Epoch [1/5], Step [100/938], Loss: 1.6049\n",
      "Epoch [1/5], Step [200/938], Loss: 1.4070\n",
      "Epoch [1/5], Step [300/938], Loss: 0.9846\n",
      "Epoch [1/5], Step [400/938], Loss: 0.7934\n",
      "Epoch [1/5], Step [500/938], Loss: 0.6497\n",
      "Epoch [1/5], Step [600/938], Loss: 0.5329\n",
      "Epoch [1/5], Step [700/938], Loss: 0.5529\n",
      "Epoch [1/5], Step [800/938], Loss: 0.4238\n",
      "Epoch [1/5], Step [900/938], Loss: 0.5033\n",
      "Epoch [2/5], Step [100/938], Loss: 0.4065\n",
      "Epoch [2/5], Step [200/938], Loss: 0.3004\n",
      "Epoch [2/5], Step [300/938], Loss: 0.2854\n",
      "Epoch [2/5], Step [400/938], Loss: 0.1963\n",
      "Epoch [2/5], Step [500/938], Loss: 0.2262\n",
      "Epoch [2/5], Step [600/938], Loss: 0.2717\n",
      "Epoch [2/5], Step [700/938], Loss: 0.2686\n",
      "Epoch [2/5], Step [800/938], Loss: 0.3108\n",
      "Epoch [2/5], Step [900/938], Loss: 0.1557\n",
      "Epoch [3/5], Step [100/938], Loss: 0.2425\n",
      "Epoch [3/5], Step [200/938], Loss: 0.2229\n",
      "Epoch [3/5], Step [300/938], Loss: 0.3079\n",
      "Epoch [3/5], Step [400/938], Loss: 0.1633\n",
      "Epoch [3/5], Step [500/938], Loss: 0.1240\n",
      "Epoch [3/5], Step [600/938], Loss: 0.1347\n",
      "Epoch [3/5], Step [700/938], Loss: 0.1194\n",
      "Epoch [3/5], Step [800/938], Loss: 0.1242\n",
      "Epoch [3/5], Step [900/938], Loss: 0.1130\n",
      "Epoch [4/5], Step [100/938], Loss: 0.2280\n",
      "Epoch [4/5], Step [200/938], Loss: 0.0647\n",
      "Epoch [4/5], Step [300/938], Loss: 0.2789\n",
      "Epoch [4/5], Step [400/938], Loss: 0.1085\n",
      "Epoch [4/5], Step [500/938], Loss: 0.2048\n",
      "Epoch [4/5], Step [600/938], Loss: 0.0646\n",
      "Epoch [4/5], Step [700/938], Loss: 0.1552\n",
      "Epoch [4/5], Step [800/938], Loss: 0.1746\n",
      "Epoch [4/5], Step [900/938], Loss: 0.0712\n",
      "Epoch [5/5], Step [100/938], Loss: 0.0493\n",
      "Epoch [5/5], Step [200/938], Loss: 0.1790\n",
      "Epoch [5/5], Step [300/938], Loss: 0.1359\n",
      "Epoch [5/5], Step [400/938], Loss: 0.1662\n",
      "Epoch [5/5], Step [500/938], Loss: 0.1330\n",
      "Epoch [5/5], Step [600/938], Loss: 0.0699\n",
      "Epoch [5/5], Step [700/938], Loss: 0.1007\n",
      "Epoch [5/5], Step [800/938], Loss: 0.0901\n",
      "Epoch [5/5], Step [900/938], Loss: 0.0514\n"
     ]
    }
   ],
   "source": [
    "# Training loop\n",
    "for epoch in range(num_epochs):\n",
    "    for i, (images, labels) in enumerate(train_loader):\n",
    "        # Forward pass\n",
    "        outputs = model(images)\n",
    "        loss = criterion(outputs, labels)\n",
    "\n",
    "        # Backward pass and optimize\n",
    "        optimizer.zero_grad()\n",
    "        loss.backward()\n",
    "        optimizer.step()\n",
    "\n",
    "        if (i + 1) % 100 == 0:\n",
    "            print(f'Epoch [{epoch + 1}/{num_epochs}], Step [{i + 1}/{len(train_loader)}], Loss: {loss.item():.4f}')\n"
   ]
  },
  {
   "cell_type": "code",
   "execution_count": 9,
   "metadata": {},
   "outputs": [
    {
     "name": "stdout",
     "output_type": "stream",
     "text": [
      "Accuracy of the model on the 10000 test images: 96.39%\n"
     ]
    }
   ],
   "source": [
    "# Test the model\n",
    "model.eval()\n",
    "with torch.no_grad():\n",
    "    correct = 0\n",
    "    total = 0\n",
    "    for images, labels in test_loader:\n",
    "        outputs = model(images)\n",
    "        _, predicted = torch.max(outputs.data, 1)\n",
    "        total += labels.size(0)\n",
    "        correct += (predicted == labels).sum().item()\n",
    "\n",
    "    print(f'Accuracy of the model on the 10000 test images: {100 * correct / total:.2f}%')"
   ]
  },
  {
   "cell_type": "code",
   "execution_count": 10,
   "metadata": {},
   "outputs": [],
   "source": [
    "# Save the trained model\n",
    "torch.save(model.state_dict(), 'mnist_model.pth')"
   ]
  }
 ],
 "metadata": {
  "kernelspec": {
   "display_name": "venv",
   "language": "python",
   "name": "python3"
  },
  "language_info": {
   "codemirror_mode": {
    "name": "ipython",
    "version": 3
   },
   "file_extension": ".py",
   "mimetype": "text/x-python",
   "name": "python",
   "nbconvert_exporter": "python",
   "pygments_lexer": "ipython3",
   "version": "3.9.5"
  }
 },
 "nbformat": 4,
 "nbformat_minor": 2
}
