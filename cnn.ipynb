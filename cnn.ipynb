{
 "cells": [
  {
   "cell_type": "code",
   "execution_count": 11,
   "metadata": {},
   "outputs": [],
   "source": [
    "import torch\n",
    "import torch.nn as nn\n",
    "import torch.optim as optim\n",
    "from torchvision import datasets, transforms\n",
    "from torch.utils.data import DataLoader"
   ]
  },
  {
   "cell_type": "code",
   "execution_count": 12,
   "metadata": {},
   "outputs": [],
   "source": [
    "# Hyperparameters\n",
    "num_epochs = 5\n",
    "batch_size = 64\n",
    "learning_rate = 0.001"
   ]
  },
  {
   "cell_type": "code",
   "execution_count": 13,
   "metadata": {},
   "outputs": [],
   "source": [
    "# Load MNIST dataset\n",
    "transform = transforms.Compose([transforms.ToTensor(), transforms.Normalize((0.5,), (0.5,))])\n",
    "train_dataset = datasets.MNIST(root='./data', train=True, transform=transform, download=True)\n",
    "test_dataset = datasets.MNIST(root='./data', train=False, transform=transform, download=True)\n",
    "train_loader = DataLoader(dataset=train_dataset, batch_size=batch_size, shuffle=True)\n",
    "test_loader = DataLoader(dataset=test_dataset, batch_size=batch_size, shuffle=False)\n"
   ]
  },
  {
   "cell_type": "code",
   "execution_count": 14,
   "metadata": {},
   "outputs": [],
   "source": [
    "# Define the CNN\n",
    "class CNN(nn.Module):\n",
    "    def __init__(self):\n",
    "        super(CNN, self).__init__()\n",
    "        self.conv1 = nn.Conv2d(1, 32, kernel_size=5, stride=1, padding=2)\n",
    "        self.relu = nn.ReLU()\n",
    "        self.pool = nn.MaxPool2d(kernel_size=2, stride=2, padding=0)\n",
    "        self.conv2 = nn.Conv2d(32, 64, kernel_size=5, stride=1, padding=2)\n",
    "        self.fc1 = nn.Linear(64 * 7 * 7, 1000)\n",
    "        self.fc2 = nn.Linear(1000, 10)\n",
    "\n",
    "    def forward(self, x):\n",
    "        out = self.conv1(x)\n",
    "        out = self.relu(out)\n",
    "        out = self.pool(out)\n",
    "        out = self.conv2(out)\n",
    "        out = self.relu(out)\n",
    "        out = self.pool(out)\n",
    "        out = out.view(out.size(0), -1)  # Flatten\n",
    "        out = self.fc1(out)\n",
    "        out = self.relu(out)\n",
    "        out = self.fc2(out)\n",
    "        return out\n",
    "\n",
    "model = CNN()\n"
   ]
  },
  {
   "cell_type": "code",
   "execution_count": 15,
   "metadata": {},
   "outputs": [],
   "source": [
    "# Loss and optimizer\n",
    "criterion = nn.CrossEntropyLoss()\n",
    "optimizer = optim.Adam(model.parameters(), lr=learning_rate)\n"
   ]
  },
  {
   "cell_type": "code",
   "execution_count": 16,
   "metadata": {},
   "outputs": [
    {
     "name": "stdout",
     "output_type": "stream",
     "text": [
      "Epoch [1/5], Step [100/938], Loss: 0.0788\n",
      "Epoch [1/5], Step [200/938], Loss: 0.1055\n",
      "Epoch [1/5], Step [300/938], Loss: 0.0274\n",
      "Epoch [1/5], Step [400/938], Loss: 0.0231\n",
      "Epoch [1/5], Step [500/938], Loss: 0.1567\n",
      "Epoch [1/5], Step [600/938], Loss: 0.0735\n",
      "Epoch [1/5], Step [700/938], Loss: 0.0750\n",
      "Epoch [1/5], Step [800/938], Loss: 0.1269\n",
      "Epoch [1/5], Step [900/938], Loss: 0.0276\n",
      "Epoch [2/5], Step [100/938], Loss: 0.0121\n",
      "Epoch [2/5], Step [200/938], Loss: 0.0248\n",
      "Epoch [2/5], Step [300/938], Loss: 0.0326\n",
      "Epoch [2/5], Step [400/938], Loss: 0.0346\n",
      "Epoch [2/5], Step [500/938], Loss: 0.0327\n",
      "Epoch [2/5], Step [600/938], Loss: 0.0158\n",
      "Epoch [2/5], Step [700/938], Loss: 0.0011\n",
      "Epoch [2/5], Step [800/938], Loss: 0.0211\n",
      "Epoch [2/5], Step [900/938], Loss: 0.0154\n",
      "Epoch [3/5], Step [100/938], Loss: 0.0165\n",
      "Epoch [3/5], Step [200/938], Loss: 0.0032\n",
      "Epoch [3/5], Step [300/938], Loss: 0.0638\n",
      "Epoch [3/5], Step [400/938], Loss: 0.0215\n",
      "Epoch [3/5], Step [500/938], Loss: 0.0071\n",
      "Epoch [3/5], Step [600/938], Loss: 0.0725\n",
      "Epoch [3/5], Step [700/938], Loss: 0.0027\n",
      "Epoch [3/5], Step [800/938], Loss: 0.0029\n",
      "Epoch [3/5], Step [900/938], Loss: 0.0386\n",
      "Epoch [4/5], Step [100/938], Loss: 0.0026\n",
      "Epoch [4/5], Step [200/938], Loss: 0.0046\n",
      "Epoch [4/5], Step [300/938], Loss: 0.0160\n",
      "Epoch [4/5], Step [400/938], Loss: 0.0059\n",
      "Epoch [4/5], Step [500/938], Loss: 0.0012\n",
      "Epoch [4/5], Step [600/938], Loss: 0.0062\n",
      "Epoch [4/5], Step [700/938], Loss: 0.0369\n",
      "Epoch [4/5], Step [800/938], Loss: 0.0694\n",
      "Epoch [4/5], Step [900/938], Loss: 0.0069\n",
      "Epoch [5/5], Step [100/938], Loss: 0.0003\n",
      "Epoch [5/5], Step [200/938], Loss: 0.0382\n",
      "Epoch [5/5], Step [300/938], Loss: 0.0013\n",
      "Epoch [5/5], Step [400/938], Loss: 0.0255\n",
      "Epoch [5/5], Step [500/938], Loss: 0.0435\n",
      "Epoch [5/5], Step [600/938], Loss: 0.0376\n",
      "Epoch [5/5], Step [700/938], Loss: 0.0074\n",
      "Epoch [5/5], Step [800/938], Loss: 0.0134\n",
      "Epoch [5/5], Step [900/938], Loss: 0.0008\n"
     ]
    }
   ],
   "source": [
    "# Training loop\n",
    "for epoch in range(num_epochs):\n",
    "    for i, (images, labels) in enumerate(train_loader):\n",
    "        # Forward pass\n",
    "        outputs = model(images)\n",
    "        loss = criterion(outputs, labels)\n",
    "\n",
    "        # Backward pass and optimize\n",
    "        optimizer.zero_grad()\n",
    "        loss.backward()\n",
    "        optimizer.step()\n",
    "\n",
    "        if (i + 1) % 100 == 0:\n",
    "            print(f'Epoch [{epoch + 1}/{num_epochs}], Step [{i + 1}/{len(train_loader)}], Loss: {loss.item():.4f}')\n"
   ]
  },
  {
   "cell_type": "code",
   "execution_count": 17,
   "metadata": {},
   "outputs": [
    {
     "name": "stdout",
     "output_type": "stream",
     "text": [
      "Accuracy of the model on the 10000 test images: 99.24%\n"
     ]
    }
   ],
   "source": [
    "# Test the model\n",
    "model.eval()\n",
    "with torch.no_grad():\n",
    "    correct = 0\n",
    "    total = 0\n",
    "    for images, labels in test_loader:\n",
    "        outputs = model(images)\n",
    "        _, predicted = torch.max(outputs.data, 1)\n",
    "        total += labels.size(0)\n",
    "        correct += (predicted == labels).sum().item()\n",
    "\n",
    "    print(f'Accuracy of the model on the 10000 test images: {100 * correct / total:.2f}%')"
   ]
  },
  {
   "cell_type": "code",
   "execution_count": 18,
   "metadata": {},
   "outputs": [],
   "source": [
    "# Save the trained model\n",
    "torch.save(model.state_dict(), 'mnist_model.pth')"
   ]
  }
 ],
 "metadata": {
  "kernelspec": {
   "display_name": "venv",
   "language": "python",
   "name": "python3"
  },
  "language_info": {
   "codemirror_mode": {
    "name": "ipython",
    "version": 3
   },
   "file_extension": ".py",
   "mimetype": "text/x-python",
   "name": "python",
   "nbconvert_exporter": "python",
   "pygments_lexer": "ipython3",
   "version": "3.9.5"
  }
 },
 "nbformat": 4,
 "nbformat_minor": 2
}
